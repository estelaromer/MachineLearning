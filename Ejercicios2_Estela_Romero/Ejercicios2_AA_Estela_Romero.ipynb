{
 "cells": [
  {
   "cell_type": "markdown",
   "metadata": {},
   "source": [
    "# REGRESIÓN DE UNA FUNCIÓN CON THEANO"
   ]
  },
  {
   "cell_type": "code",
   "execution_count": 1,
   "metadata": {
    "collapsed": false
   },
   "outputs": [
    {
     "name": "stdout",
     "output_type": "stream",
     "text": [
      "Using matplotlib backend: Qt5Agg\n",
      "Populating the interactive namespace from numpy and matplotlib\n"
     ]
    }
   ],
   "source": [
    "%pylab\n",
    "%matplotlib inline"
   ]
  },
  {
   "cell_type": "code",
   "execution_count": 3,
   "metadata": {
    "collapsed": true
   },
   "outputs": [],
   "source": [
    "import theano\n",
    "import theano.tensor as T"
   ]
  },
  {
   "cell_type": "code",
   "execution_count": 3,
   "metadata": {
    "collapsed": false
   },
   "outputs": [],
   "source": [
    "trX = np.linspace(-1,1,101)\n",
    "trY = np.linspace(-1,1,101)\n",
    "for i in range(len(trY)):\n",
    "    trY[i] = math.log(1 + 0.5 * abs(trX[i])) + trX[i] / 3 + np.random.randn() * 0.033"
   ]
  },
  {
   "cell_type": "code",
   "execution_count": 4,
   "metadata": {
    "collapsed": false
   },
   "outputs": [
    {
     "name": "stdout",
     "output_type": "stream",
     "text": [
      "En el paso 0 el valor de w0 es 0.200678646872 y el valor de w1 es 0.168433140329 con un coste 0.154052220886\n",
      "En el paso 1 el valor de w0 es 0.30674454958 y el valor de w1 es 0.254337893808 con un coste 0.0464142811225\n",
      "En el paso 2 el valor de w0 es 0.371281148956 y el valor de w1 es 0.296456107128 con un coste 0.0148873819435\n",
      "En el paso 3 el valor de w0 es 0.412895083889 y el valor de w1 es 0.316605474341 con un coste 0.00494783215335\n",
      "En el paso 4 el valor de w0 es 0.440517608066 y el valor de w1 es 0.325972724624 con un coste 0.00165700578579\n",
      "En el paso 5 el valor de w0 es 0.459148204746 y el valor de w1 es 0.330145116934 con un coste 0.000536277472476\n",
      "En el paso 6 el valor de w0 es 0.471832067763 y el valor de w1 es 0.331870849377 con un coste 0.000155260463161\n",
      "En el paso 7 el valor de w0 es 0.480516668659 y el valor de w1 es 0.332482079981 con un coste 3.32894927171e-05\n",
      "En el paso 8 el valor de w0 es 0.486484210872 y el valor de w1 es 0.33261282365 con un coste 2.2249828738e-06\n",
      "En el paso 9 el valor de w0 es 0.490594066326 y el valor de w1 es 0.332556938981 con un coste 1.67534383973e-06\n",
      "En el paso 10 el valor de w0 es 0.493428671323 y el valor de w1 es 0.332445013675 con un coste 9.83180430404e-06\n",
      "En el paso 11 el valor de w0 es 0.495385580383 y el valor de w1 es 0.33233092031 con un coste 1.90664964686e-05\n",
      "En el paso 12 el valor de w0 es 0.496737395315 y el valor de w1 es 0.332233651356 con un coste 2.70065177835e-05\n",
      "En el paso 13 el valor de w0 es 0.497671593486 y el valor de w1 es 0.332157191669 con un coste 3.31836425194e-05\n",
      "En el paso 14 el valor de w0 es 0.498317359227 y el valor de w1 es 0.332099715076 con un coste 3.77636160009e-05\n",
      "En el paso 15 el valor de w0 es 0.49876382203 y el valor de w1 es 0.332057664739 con un coste 4.1071105679e-05\n",
      "En el paso 16 el valor de w0 es 0.499072527051 y el valor de w1 es 0.332027432689 con un coste 4.34228152429e-05\n",
      "En el paso 17 el valor de w0 es 0.499285995218 y el valor de w1 es 0.332005949167 con un coste 4.50789504026e-05\n",
      "En el paso 18 el valor de w0 es 0.49943361426 y el valor de w1 es 0.331990803702 con un coste 4.62381214387e-05\n",
      "En el paso 19 el valor de w0 es 0.499535699797 y el valor de w1 es 0.331980185439 con un coste 4.70462263992e-05\n",
      "En el paso 20 el valor de w0 es 0.499606298047 y el valor de w1 es 0.331972770078 con un coste 4.76081083126e-05\n",
      "En el paso 21 el valor de w0 es 0.499655121501 y el valor de w1 es 0.331967605775 con un coste 4.79981046689e-05\n",
      "En el paso 22 el valor de w0 es 0.499688886444 y el valor de w1 es 0.331964016258 con un coste 4.8268478718e-05\n",
      "En el paso 23 el valor de w0 es 0.499712237431 y el valor de w1 es 0.331961524829 con un coste 4.84557732698e-05\n",
      "En el paso 24 el valor de w0 es 0.499728386424 y el valor de w1 es 0.331959797314 con un coste 4.85854471942e-05\n",
      "En el paso 25 el valor de w0 es 0.499739554701 y el valor de w1 es 0.331958600355 con un coste 4.8675194771e-05\n",
      "En el paso 26 el valor de w0 es 0.499747278432 y el valor de w1 es 0.331957771441 con un coste 4.87372939955e-05\n",
      "En el paso 27 el valor de w0 es 0.499752619993 y el valor de w1 es 0.331957197621 con un coste 4.87802552918e-05\n",
      "En el paso 28 el valor de w0 es 0.499756314098 y el valor de w1 es 0.331956800499 con un coste 4.88099732961e-05\n",
      "En el paso 29 el valor de w0 es 0.499758868859 y el valor de w1 es 0.331956525719 con un coste 4.88305288306e-05\n",
      "En el paso 30 el valor de w0 es 0.499760635674 y el valor de w1 es 0.331956335617 con un coste 4.88447460774e-05\n",
      "En el paso 31 el valor de w0 es 0.499761857564 y el valor de w1 es 0.331956204111 con un coste 4.88545791009e-05\n",
      "En el paso 32 el valor de w0 es 0.499762702595 y el valor de w1 es 0.331956113148 con un coste 4.88613797199e-05\n",
      "En el paso 33 el valor de w0 es 0.499763287 y el valor de w1 es 0.331956050231 con un coste 4.88660830225e-05\n",
      "En el paso 34 el valor de w0 es 0.499763691161 y el valor de w1 es 0.331956006714 con un coste 4.88693357881e-05\n",
      "En el paso 35 el valor de w0 es 0.499763970669 y el valor de w1 es 0.331955976617 con un coste 4.8871585358e-05\n",
      "En el paso 36 el valor de w0 es 0.499764163971 y el valor de w1 es 0.331955955802 con un coste 4.88731411236e-05\n",
      "En el paso 37 el valor de w0 es 0.499764297654 y el valor de w1 es 0.331955941405 con un coste 4.8874217062e-05\n",
      "En el paso 38 el valor de w0 es 0.499764390106 y el valor de w1 es 0.331955931449 con un coste 4.88749611593e-05\n",
      "En el paso 39 el valor de w0 es 0.499764454044 y el valor de w1 es 0.331955924563 con un coste 4.88754757613e-05\n",
      "En el paso 40 el valor de w0 es 0.499764498262 y el valor de w1 es 0.331955919801 con un coste 4.88758316488e-05\n",
      "En el paso 41 el valor de w0 es 0.499764528842 y el valor de w1 es 0.331955916508 con un coste 4.88760777727e-05\n",
      "En el paso 42 el valor de w0 es 0.499764549991 y el valor de w1 es 0.33195591423 con un coste 4.88762479865e-05\n",
      "En el paso 43 el valor de w0 es 0.499764564616 y el valor de w1 es 0.331955912655 con un coste 4.88763657025e-05\n",
      "En el paso 44 el valor de w0 es 0.499764574731 y el valor de w1 es 0.331955911566 con un coste 4.88764471122e-05\n",
      "En el paso 45 el valor de w0 es 0.499764581726 y el valor de w1 es 0.331955910813 con un coste 4.88765034132e-05\n",
      "En el paso 46 el valor de w0 es 0.499764586564 y el valor de w1 es 0.331955910292 con un coste 4.88765423498e-05\n",
      "En el paso 47 el valor de w0 es 0.49976458991 y el valor de w1 es 0.331955909931 con un coste 4.88765692774e-05\n",
      "En el paso 48 el valor de w0 es 0.499764592224 y el valor de w1 es 0.331955909682 con un coste 4.88765878999e-05\n",
      "En el paso 49 el valor de w0 es 0.499764593824 y el valor de w1 es 0.33195590951 con un coste 4.88766007788e-05\n"
     ]
    }
   ],
   "source": [
    "X = T.scalar()\n",
    "Y = T.scalar()\n",
    "\n",
    "def model(X, w0, w1):\n",
    "    return log(1 + w0 * abs(X)) + w1 * X\n",
    "\n",
    "w0 = theano.shared(np.asarray(0., dtype = theano.config.floatX))\n",
    "w1 = theano.shared(np.asarray(0., dtype = theano.config.floatX))\n",
    "\n",
    "y = model(X, w0, w1)\n",
    "\n",
    "cost     = T.mean(T.sqr(y - Y))\n",
    "gradient_w0 = T.grad(cost = cost, wrt = w0)\n",
    "gradient_w1 = T.grad(cost = cost, wrt = w1)\n",
    "\n",
    "updates  = [[w0, w0- gradient_w0 * 0.01], [w1, w1 - gradient_w1 * 0.01]]\n",
    "\n",
    "train = theano.function(inputs = [X, Y], outputs = cost, updates = updates, allow_input_downcast = True)\n",
    "\n",
    "for i in range(50):\n",
    "    for x, y in zip(trX, trY):\n",
    "        cost_i = train(x, y)\n",
    "    print 'En el paso', i, 'el valor de w0 es', w0.get_value(),'y el valor de w1 es', w1.get_value(),\\\n",
    "    'con un coste', cost_i  "
   ]
  },
  {
   "cell_type": "markdown",
   "metadata": {
    "collapsed": true
   },
   "source": [
    "# RED NEURONAL CON THEANO"
   ]
  },
  {
   "cell_type": "code",
   "execution_count": 4,
   "metadata": {
    "collapsed": false
   },
   "outputs": [],
   "source": [
    "from theano.ifelse import ifelse\n",
    "\n",
    "# Definición de las variables simbólicas\n",
    "x = T.vector('x')\n",
    "w = T.vector('w')\n",
    "b = T.scalar('b')\n",
    "\n",
    "# Definición de la neurona\n",
    "z = T.dot(x, w) + b\n",
    "a = ifelse(T.mod(z, 2), 0, 1)\n",
    "\n",
    "# Creación de la función\n",
    "neuron = theano.function([x, w, b], a)"
   ]
  },
  {
   "cell_type": "code",
   "execution_count": 5,
   "metadata": {
    "collapsed": false
   },
   "outputs": [
    {
     "name": "stdout",
     "output_type": "stream",
     "text": [
      "El resultado para [0, 0, 0] es 0\n",
      "El resultado para [0, 0, 1] es 1\n",
      "El resultado para [0, 1, 0] es 1\n",
      "El resultado para [0, 1, 1] es 0\n",
      "El resultado para [1, 0, 0] es 1\n",
      "El resultado para [1, 0, 1] es 0\n",
      "El resultado para [1, 1, 0] es 0\n",
      "El resultado para [1, 1, 1] es 1\n"
     ]
    }
   ],
   "source": [
    "inputs = [[0, 0, 0], [0, 0, 1], [0, 1, 0], [0, 1, 1], [1, 0, 0], [1, 0, 1], [1, 1, 0], [1, 1, 1]]\n",
    "weights = [1, 1, 1]\n",
    "bias = 1\n",
    "\n",
    "# Iteramos sobre todas las entradas\n",
    "for i in range(len(inputs)):\n",
    "    t = inputs[i]\n",
    "    out = neuron(t, weights, bias)\n",
    "    print 'El resultado para [%d, %d, %d] es %d' % (t[0], t[1], t[2], out)"
   ]
  },
  {
   "cell_type": "code",
   "execution_count": 6,
   "metadata": {
    "collapsed": false
   },
   "outputs": [
    {
     "name": "stdout",
     "output_type": "stream",
     "text": [
      "El resultado para [0, 0, 0] es 0\n",
      "El resultado para [0, 0, 1] es 1\n",
      "El resultado para [0, 1, 0] es 1\n",
      "El resultado para [0, 1, 1] es 0\n",
      "El resultado para [1, 0, 0] es 1\n",
      "El resultado para [1, 0, 1] es 0\n",
      "El resultado para [1, 1, 0] es 0\n",
      "El resultado para [1, 1, 1] es 1\n"
     ]
    }
   ],
   "source": [
    "# Definición de las variables simbólicas\n",
    "w = theano.shared(np.array([1, 1, 1]))\n",
    "b = theano.shared(1.)\n",
    "\n",
    "# Definición de la neurona\n",
    "z = T.dot(x, w) + b\n",
    "a = ifelse(T.mod(z, 2), 0, 1)\n",
    "\n",
    "# Creación de la función\n",
    "neuron = theano.function([x], a)\n",
    "\n",
    "# Iteramos sobre todas las entradas\n",
    "for i in range(len(inputs)):\n",
    "    t = inputs[i]\n",
    "    out = neuron(t)\n",
    "    print 'El resultado para [%d, %d, %d] es %d' % (t[0], t[1], t[2], out)"
   ]
  },
  {
   "cell_type": "code",
   "execution_count": 7,
   "metadata": {
    "collapsed": true
   },
   "outputs": [],
   "source": [
    "# Definición de las variables simbólicas\n",
    "x = T.matrix('x')\n",
    "w = theano.shared(np.array([1, 1, 1], dtype = theano.config.floatX))\n",
    "b = theano.shared(1.0)\n",
    "learning_rate = 0.01\n",
    "\n",
    "# Definición de la neurona\n",
    "z = T.dot(x, w) + b\n",
    "a = 1 / (1 + T.exp(-z))"
   ]
  },
  {
   "cell_type": "code",
   "execution_count": 8,
   "metadata": {
    "collapsed": true
   },
   "outputs": [],
   "source": [
    "a_hat = T.vector('a_hat')\n",
    "cost = -(a_hat * T.log(a) + (1 - a_hat) * T.log(1 - a)).sum()"
   ]
  },
  {
   "cell_type": "code",
   "execution_count": 9,
   "metadata": {
    "collapsed": true
   },
   "outputs": [],
   "source": [
    "dw, db = T.grad(cost, [w, b])\n",
    "\n",
    "train = theano.function(\n",
    "    inputs = [x, a_hat],\n",
    "    outputs = [a, cost],\n",
    "    updates = [[w, w - learning_rate * dw], [b, b - learning_rate * db]])"
   ]
  },
  {
   "cell_type": "code",
   "execution_count": 10,
   "metadata": {
    "collapsed": false
   },
   "outputs": [
    {
     "name": "stdout",
     "output_type": "stream",
     "text": [
      "Los resultados de la red son:\n",
      "El resultado para [0, 0, 0] es 0.50\n",
      "El resultado para [0, 0, 1] es 0.50\n",
      "El resultado para [0, 1, 0] es 0.50\n",
      "El resultado para [0, 1, 1] es 0.50\n",
      "El resultado para [1, 0, 0] es 0.50\n",
      "El resultado para [1, 0, 1] es 0.50\n",
      "El resultado para [1, 1, 0] es 0.50\n",
      "El resultado para [1, 1, 1] es 0.50\n",
      "\n",
      "El vector w es [0.00, 0.00, 0.00]\n",
      "El valor del bias es -0.00\n"
     ]
    },
    {
     "data": {
      "text/plain": [
       "[<matplotlib.lines.Line2D at 0xbb13b00>]"
      ]
     },
     "execution_count": 10,
     "metadata": {},
     "output_type": "execute_result"
    },
    {
     "data": {
      "image/png": "[encoded data removed]",
      "text/plain": [
       "<matplotlib.figure.Figure at 0xb2fdc88>"
      ]
     },
     "metadata": {},
     "output_type": "display_data"
    }
   ],
   "source": [
    "# Conjunto de datos de entrenamiento\n",
    "inputs = [[0, 0, 0], [0, 0, 1], [0, 1, 0], [0, 1, 1], [1, 0, 0], [1, 0, 1], [1, 1, 0], [1, 1, 1]]\n",
    "outputs = [0, 1, 1, 0, 1, 0, 0, 1]\n",
    "\n",
    "# Iteramos sobre el conjunto de entrenamiento \n",
    "cost = []\n",
    "for iteration in range(50000):\n",
    "    pred, cost_iter = train(inputs, outputs)\n",
    "    cost.append(cost_iter)\n",
    "    \n",
    "# Se imprimen los resultados por pantalla\n",
    "print 'Los resultados de la red son:'\n",
    "for i in range(len(inputs)):\n",
    "    print 'El resultado para [%d, %d, %d] es %.2f' % (inputs[i][0], inputs[i][1], inputs[i][2], pred[i])\n",
    "    \n",
    "# Resultados\n",
    "print\n",
    "print 'El vector w es [%.2f, %.2f, %.2f]' % (w.get_value()[0], w.get_value()[0], w.get_value()[0])\n",
    "print 'El valor del bias es %.2f' % b.get_value()\n",
    "\n",
    "# Función de esfuerzo en función del número de iteraciones\n",
    "plt.plot(cost)"
   ]
  },
  {
   "cell_type": "code",
   "execution_count": 11,
   "metadata": {
    "collapsed": true
   },
   "outputs": [],
   "source": [
    "x = T.matrix('x')\n",
    "w1 = theano.shared(np.array([.34, .21, .52], dtype = theano.config.floatX))\n",
    "w2 = theano.shared(np.array([.60, .46, .79], dtype = theano.config.floatX))\n",
    "w3 = theano.shared(np.array([.85, .18, .51], dtype = theano.config.floatX))\n",
    "w4 = theano.shared(np.array([.99, .95, .91], dtype = theano.config.floatX))\n",
    "learning_rate = 0.05"
   ]
  },
  {
   "cell_type": "code",
   "execution_count": 12,
   "metadata": {
    "collapsed": true
   },
   "outputs": [],
   "source": [
    "a1 = 1 / (1 + T.exp(-T.dot(x, w1)))\n",
    "a2 = 1 / (1 + T.exp(-T.dot(x, w2)))\n",
    "a3 = 1 / (1 + T.exp(-T.dot(x, w3)))\n",
    "x2 = T.stack([a1, a2, a3], axis = 1)\n",
    "a4 = 1 / (1 + T.exp(-T.dot(x2, w4)))"
   ]
  },
  {
   "cell_type": "code",
   "execution_count": 13,
   "metadata": {
    "collapsed": true
   },
   "outputs": [],
   "source": [
    "a_hat = T.vector('a_hat')\n",
    "cost = -(a_hat * T.log(a4) + (1 - a_hat) * T.log(1 - a4)).sum()\n",
    "dw1, dw2, dw3, dw4 = T.grad(cost, [w1, w2, w3, w4])\n",
    "\n",
    "train = theano.function(\n",
    "    inputs = [x,a_hat],\n",
    "    outputs = [a4,cost],\n",
    "    updates = [\n",
    "        [w1, w1 - learning_rate * dw1],\n",
    "        [w2, w2 - learning_rate * dw2],\n",
    "        [w3, w3 - learning_rate * dw3],\n",
    "        [w4, w4 - learning_rate * dw4],\n",
    "    ]\n",
    ")"
   ]
  },
  {
   "cell_type": "code",
   "execution_count": 14,
   "metadata": {
    "collapsed": false
   },
   "outputs": [
    {
     "name": "stdout",
     "output_type": "stream",
     "text": [
      "Los resultados de la red son:\n",
      "El resultado para [0, 0, 0] es 0.01\n",
      "El resultado para [0, 0, 1] es 0.99\n",
      "El resultado para [0, 1, 0] es 1.00\n",
      "El resultado para [0, 1, 1] es 0.00\n",
      "El resultado para [1, 0, 0] es 1.00\n",
      "El resultado para [1, 0, 1] es 0.00\n",
      "El resultado para [1, 1, 0] es 0.00\n",
      "El resultado para [1, 1, 1] es 1.00\n",
      "\n",
      "El vector w1 es [-12.05, -12.05]\n",
      "El vector w2 es [-0.84, -0.84]\n",
      "El vector w3 es [6.90, 6.90]\n",
      "El vector w4 es [21.13, 21.13]\n"
     ]
    },
    {
     "data": {
      "text/plain": [
       "[<matplotlib.lines.Line2D at 0xb3f6e80>]"
      ]
     },
     "execution_count": 14,
     "metadata": {},
     "output_type": "execute_result"
    },
    {
     "data": {
      "image/png": "[encoded data removed]",
      "text/plain": [
       "<matplotlib.figure.Figure at 0xb533cc0>"
      ]
     },
     "metadata": {},
     "output_type": "display_data"
    }
   ],
   "source": [
    "inputs = [[0, 0, 0], [0, 0, 1], [0, 1, 0], [0, 1, 1], [1, 0, 0], [1, 0, 1], [1, 1, 0], [1, 1, 1]]\n",
    "outputs = [0, 1, 1, 0, 1, 0, 0, 1]\n",
    "\n",
    "# Iteramos sobre el conjunto de entrenamiento \n",
    "cost = []\n",
    "for iteration in range(100000):\n",
    "    pred, cost_iter = train(inputs, outputs)\n",
    "    cost.append(cost_iter)\n",
    "    \n",
    "# Se imprimen los resultados por pantalla\n",
    "print 'Los resultados de la red son:'\n",
    "for i in range(len(inputs)):\n",
    "    print 'El resultado para [%d, %d, %d] es %.2f' % (inputs[i][0], inputs[i][1], inputs[i][2], pred[i])\n",
    "\n",
    "    # Resultados\n",
    "print\n",
    "print 'El vector w1 es [%.2f, %.2f]' % (w1.get_value()[0], w1.get_value()[0])\n",
    "print 'El vector w2 es [%.2f, %.2f]' % (w2.get_value()[0], w2.get_value()[0])\n",
    "print 'El vector w3 es [%.2f, %.2f]' % (w3.get_value()[0], w3.get_value()[0])\n",
    "print 'El vector w4 es [%.2f, %.2f]' % (w4.get_value()[0], w4.get_value()[0])\n",
    "# Función de esfuerzo en función del número de iteraciones\n",
    "plt.plot(cost)"
   ]
  },
  {
   "cell_type": "code",
   "execution_count": 15,
   "metadata": {
    "collapsed": true
   },
   "outputs": [],
   "source": [
    "x = T.matrix('x')\n",
    "w1 = theano.shared(np.array([.12, .21, .34], dtype = theano.config.floatX))\n",
    "w2 = theano.shared(np.array([.35, .27, .65], dtype = theano.config.floatX))\n",
    "w3 = theano.shared(np.array([.22, .81, .48], dtype = theano.config.floatX))\n",
    "w4 = theano.shared(np.array([.99, .87, .91], dtype = theano.config.floatX))\n",
    "b2 = theano.shared(1.)\n",
    "learning_rate = 0.05"
   ]
  },
  {
   "cell_type": "code",
   "execution_count": 16,
   "metadata": {
    "collapsed": true
   },
   "outputs": [],
   "source": [
    "a1 = 1 / (1 + T.exp(-T.dot(x, w1)))\n",
    "a2 = 1 / (1 + T.exp(-T.dot(x, w2)))\n",
    "a3 = 1 / (1 + T.exp(-T.dot(x, w3)))\n",
    "x2 = T.stack([a1, a2, a3], axis = 1)\n",
    "a4 = 1 / (1 + T.exp(-T.dot(x2, w4) - b2))"
   ]
  },
  {
   "cell_type": "code",
   "execution_count": 17,
   "metadata": {
    "collapsed": true
   },
   "outputs": [],
   "source": [
    "a_hat = T.vector('a_hat')\n",
    "cost = -(a_hat * T.log(a4) + (1 - a_hat) * T.log(1 - a4)).sum()\n",
    "dw1, dw2, dw3, dw4, db2 = T.grad(cost, [w1, w2, w3, w4, b2])\n",
    "\n",
    "train = theano.function(\n",
    "    inputs = [x,a_hat],\n",
    "    outputs = [a4,cost],\n",
    "    updates = [\n",
    "        [w1, w1 - learning_rate * dw1],\n",
    "        [w2, w2 - learning_rate * dw2],\n",
    "        [w3, w3 - learning_rate * dw3],\n",
    "        [w4, w4 - learning_rate * dw4],\n",
    "        [b2, b2 - learning_rate * db2]\n",
    "    ]\n",
    ")"
   ]
  },
  {
   "cell_type": "code",
   "execution_count": 18,
   "metadata": {
    "collapsed": false
   },
   "outputs": [
    {
     "name": "stdout",
     "output_type": "stream",
     "text": [
      "Los resultados de la red son:\n",
      "El resultado para [0, 0, 0] es 0.01\n",
      "El resultado para [0, 0, 1] es 1.00\n",
      "El resultado para [0, 1, 0] es 1.00\n",
      "El resultado para [0, 1, 1] es 0.00\n",
      "El resultado para [1, 0, 0] es 1.00\n",
      "El resultado para [1, 0, 1] es 0.00\n",
      "El resultado para [1, 1, 0] es 0.00\n",
      "El resultado para [1, 1, 1] es 1.00\n",
      "\n",
      "El vector w1 es [-8.62, -8.62]\n",
      "El vector w2 es [-6.01, -6.01]\n",
      "El vector w3 es [-6.01, -6.01]\n",
      "El vector w4 es [23.29, 23.29]\n",
      "El valor del bias 2 es 6.31\n"
     ]
    },
    {
     "data": {
      "text/plain": [
       "[<matplotlib.lines.Line2D at 0xce5e8d0>]"
      ]
     },
     "execution_count": 18,
     "metadata": {},
     "output_type": "execute_result"
    },
    {
     "data": {
      "image/png": "[encoded data removed]",
      "text/plain": [
       "<matplotlib.figure.Figure at 0xe0a1320>"
      ]
     },
     "metadata": {},
     "output_type": "display_data"
    }
   ],
   "source": [
    "inputs = [[0, 0, 0], [0, 0, 1], [0, 1, 0], [0, 1, 1], [1, 0, 0], [1, 0, 1], [1, 1, 0], [1, 1, 1]]\n",
    "outputs = [0, 1, 1, 0, 1, 0, 0, 1]\n",
    "\n",
    "# Iteramos sobre el conjunto de entrenamiento \n",
    "cost = []\n",
    "for iteration in range(100000):\n",
    "    pred, cost_iter = train(inputs, outputs)\n",
    "    cost.append(cost_iter)\n",
    "    \n",
    "# Se imprimen los resultados por pantalla\n",
    "print 'Los resultados de la red son:'\n",
    "for i in range(len(inputs)):\n",
    "    print 'El resultado para [%d, %d, %d] es %.2f' % (inputs[i][0], inputs[i][1], inputs[i][2], pred[i])\n",
    "\n",
    "    # Resultados\n",
    "print\n",
    "print 'El vector w1 es [%.2f, %.2f]' % (w1.get_value()[0], w1.get_value()[0])\n",
    "print 'El vector w2 es [%.2f, %.2f]' % (w2.get_value()[0], w2.get_value()[0])\n",
    "print 'El vector w3 es [%.2f, %.2f]' % (w3.get_value()[0], w3.get_value()[0])\n",
    "print 'El vector w4 es [%.2f, %.2f]' % (w4.get_value()[0], w4.get_value()[0])\n",
    "print 'El valor del bias 2 es %.2f' % b2.get_value()\n",
    "# Función de esfuerzo en función del número de iteraciones\n",
    "plt.plot(cost)"
   ]
  },
  {
   "cell_type": "code",
   "execution_count": 33,
   "metadata": {
    "collapsed": true
   },
   "outputs": [],
   "source": [
    "x = T.matrix('x')\n",
    "w1 = theano.shared(np.array([.12, .21, .34], dtype = theano.config.floatX))\n",
    "w2 = theano.shared(np.array([.35, .27, .65], dtype = theano.config.floatX))\n",
    "w3 = theano.shared(np.array([.22, .81, .48], dtype = theano.config.floatX))\n",
    "w4 = theano.shared(np.array([.99, .87, .91], dtype = theano.config.floatX))\n",
    "b1 = theano.shared(.5)\n",
    "learning_rate = 0.05"
   ]
  },
  {
   "cell_type": "code",
   "execution_count": 34,
   "metadata": {
    "collapsed": true
   },
   "outputs": [],
   "source": [
    "a1 = 1 / (1 + T.exp(-T.dot(x, w1) - b1))\n",
    "a2 = 1 / (1 + T.exp(-T.dot(x, w2) - b1))\n",
    "a3 = 1 / (1 + T.exp(-T.dot(x, w3) - b1))\n",
    "x2 = T.stack([a1, a2, a3], axis = 1)\n",
    "a4 = 1 / (1 + T.exp(-T.dot(x2, w4)))"
   ]
  },
  {
   "cell_type": "code",
   "execution_count": 35,
   "metadata": {
    "collapsed": false
   },
   "outputs": [],
   "source": [
    "a_hat = T.vector('a_hat')\n",
    "cost = -(a_hat * T.log(a4) + (1 - a_hat) * T.log(1 - a4)).sum()\n",
    "dw1, dw2, dw3, dw4, db1 = T.grad(cost, [w1, w2, w3, w4, b1])\n",
    "\n",
    "train = theano.function(\n",
    "    inputs = [x,a_hat],\n",
    "    outputs = [a4,cost],\n",
    "    updates = [\n",
    "        [w1, w1 - learning_rate * dw1],\n",
    "        [w2, w2 - learning_rate * dw2],\n",
    "        [w3, w3 - learning_rate * dw3],\n",
    "        [w4, w4 - learning_rate * dw4],\n",
    "        [b1, b1 - learning_rate * db1]\n",
    "    ]\n",
    ")"
   ]
  },
  {
   "cell_type": "code",
   "execution_count": 36,
   "metadata": {
    "collapsed": false
   },
   "outputs": [
    {
     "name": "stdout",
     "output_type": "stream",
     "text": [
      "Los resultados de la red son:\n",
      "El resultado para [0, 0, 0] es 0.50\n",
      "El resultado para [0, 0, 1] es 1.00\n",
      "El resultado para [0, 1, 0] es 1.00\n",
      "El resultado para [0, 1, 1] es 0.00\n",
      "El resultado para [1, 0, 0] es 1.00\n",
      "El resultado para [1, 0, 1] es 0.00\n",
      "El resultado para [1, 1, 0] es 0.00\n",
      "El resultado para [1, 1, 1] es 1.00\n",
      "\n",
      "El vector w1 es [-6.54, -6.54]\n",
      "El vector w2 es [9.45, 9.45]\n",
      "El vector w3 es [5.92, 5.92]\n",
      "El vector w4 es [13.76, 13.76]\n",
      "El valor del bias 1 es -8.94\n"
     ]
    },
    {
     "data": {
      "text/plain": [
       "[<matplotlib.lines.Line2D at 0xb8a5c18>]"
      ]
     },
     "execution_count": 36,
     "metadata": {},
     "output_type": "execute_result"
    },
    {
     "data": {
      "image/png": "[encoded data removed]",
      "text/plain": [
       "<matplotlib.figure.Figure at 0xc353ef0>"
      ]
     },
     "metadata": {},
     "output_type": "display_data"
    }
   ],
   "source": [
    "inputs = [[0, 0, 0], [0, 0, 1], [0, 1, 0], [0, 1, 1], [1, 0, 0], [1, 0, 1], [1, 1, 0], [1, 1, 1]]\n",
    "outputs = [0, 1, 1, 0, 1, 0, 0, 1]\n",
    "\n",
    "# Iteramos sobre el conjunto de entrenamiento \n",
    "cost = []\n",
    "for iteration in range(100000):\n",
    "    pred, cost_iter = train(inputs, outputs)\n",
    "    cost.append(cost_iter)\n",
    "    \n",
    "# Se imprimen los resultados por pantalla\n",
    "print 'Los resultados de la red son:'\n",
    "for i in range(len(inputs)):\n",
    "    print 'El resultado para [%d, %d, %d] es %.2f' % (inputs[i][0], inputs[i][1], inputs[i][2], pred[i])\n",
    "\n",
    "    # Resultados\n",
    "print\n",
    "print 'El vector w1 es [%.2f, %.2f]' % (w1.get_value()[0], w1.get_value()[0])\n",
    "print 'El vector w2 es [%.2f, %.2f]' % (w2.get_value()[0], w2.get_value()[0])\n",
    "print 'El vector w3 es [%.2f, %.2f]' % (w3.get_value()[0], w3.get_value()[0])\n",
    "print 'El vector w4 es [%.2f, %.2f]' % (w4.get_value()[0], w4.get_value()[0])\n",
    "print 'El valor del bias 1 es %.2f' % b1.get_value()\n",
    "\n",
    "# Función de esfuerzo en función del número de iteraciones\n",
    "plt.plot(cost)"
   ]
  },
  {
   "cell_type": "code",
   "execution_count": 59,
   "metadata": {
    "collapsed": false
   },
   "outputs": [],
   "source": [
    "x = T.matrix('x')\n",
    "w1 = theano.shared(np.array([.12, .21, .34], dtype = theano.config.floatX))\n",
    "w2 = theano.shared(np.array([.35, .27, .65], dtype = theano.config.floatX))\n",
    "w3 = theano.shared(np.array([.22, .81, .48], dtype = theano.config.floatX))\n",
    "w4 = theano.shared(np.array([.99, .87, .91], dtype = theano.config.floatX))\n",
    "b1 = theano.shared(.5)\n",
    "b2 = theano.shared(1.)\n",
    "learning_rate = 0.02"
   ]
  },
  {
   "cell_type": "code",
   "execution_count": 60,
   "metadata": {
    "collapsed": false
   },
   "outputs": [],
   "source": [
    "a1 = 1 / (1 + T.exp(-T.dot(x, w1) - b1))\n",
    "a2 = 1 / (1 + T.exp(-T.dot(x, w2) - b1))\n",
    "a3 = 1 / (1 + T.exp(-T.dot(x, w3) - b1))\n",
    "x2 = T.stack([a1, a2, a3], axis = 1)\n",
    "a4 = 1 / (1 + T.exp(-T.dot(x2, w4) - b2))"
   ]
  },
  {
   "cell_type": "code",
   "execution_count": 61,
   "metadata": {
    "collapsed": false
   },
   "outputs": [],
   "source": [
    "a_hat = T.vector('a_hat')\n",
    "cost = -(a_hat * T.log(a4) + (1 - a_hat) * T.log(1 - a4)).sum()\n",
    "dw1, dw2, dw3, dw4, db1, db2 = T.grad(cost, [w1, w2, w3, w4, b1, b2])\n",
    "\n",
    "train = theano.function(\n",
    "    inputs = [x,a_hat],\n",
    "    outputs = [a4,cost],\n",
    "    updates = [\n",
    "        [w1, w1 - learning_rate * dw1],\n",
    "        [w2, w2 - learning_rate * dw2],\n",
    "        [w3, w3 - learning_rate * dw3],\n",
    "        [w4, w4 - learning_rate * dw4],\n",
    "        [b1, b1 - learning_rate * db1],\n",
    "        [b2, b2 - learning_rate * db2]\n",
    "    ]\n",
    ")"
   ]
  },
  {
   "cell_type": "code",
   "execution_count": 62,
   "metadata": {
    "collapsed": false
   },
   "outputs": [
    {
     "name": "stdout",
     "output_type": "stream",
     "text": [
      "Los resultados de la red son:\n",
      "El resultado para [0, 0, 0] es 0.02\n",
      "El resultado para [0, 0, 1] es 0.99\n",
      "El resultado para [0, 1, 0] es 0.99\n",
      "El resultado para [0, 1, 1] es 0.01\n",
      "El resultado para [1, 0, 0] es 0.99\n",
      "El resultado para [1, 0, 1] es 0.00\n",
      "El resultado para [1, 1, 0] es 0.00\n",
      "El resultado para [1, 1, 1] es 1.00\n",
      "\n",
      "El vector w1 es [-14.28, -14.28]\n",
      "El vector w2 es [-8.01, -8.01]\n",
      "El vector w3 es [-5.11, -5.11]\n",
      "El vector w4 es [37.24, 37.24]\n",
      "El valor del bias 1 es -0.89\n",
      "El valor del bias 2 es 4.44\n"
     ]
    },
    {
     "data": {
      "text/plain": [
       "[<matplotlib.lines.Line2D at 0x158947f0>]"
      ]
     },
     "execution_count": 62,
     "metadata": {},
     "output_type": "execute_result"
    },
    {
     "data": {
      "image/png": "[encoded data removed]",
      "text/plain": [
       "<matplotlib.figure.Figure at 0x15823470>"
      ]
     },
     "metadata": {},
     "output_type": "display_data"
    }
   ],
   "source": [
    "inputs = [[0, 0, 0], [0, 0, 1], [0, 1, 0], [0, 1, 1], [1, 0, 0], [1, 0, 1], [1, 1, 0], [1, 1, 1]]\n",
    "outputs = [0, 1, 1, 0, 1, 0, 0, 1]\n",
    "\n",
    "# Iteramos sobre el conjunto de entrenamiento \n",
    "cost = []\n",
    "for iteration in range(500000):\n",
    "    pred, cost_iter = train(inputs, outputs)\n",
    "    cost.append(cost_iter)\n",
    "    \n",
    "# Se imprimen los resultados por pantalla\n",
    "print 'Los resultados de la red son:'\n",
    "for i in range(len(inputs)):\n",
    "    print 'El resultado para [%d, %d, %d] es %.2f' % (inputs[i][0], inputs[i][1], inputs[i][2], pred[i])\n",
    "\n",
    "    # Resultados\n",
    "print\n",
    "print 'El vector w1 es [%.2f, %.2f]' % (w1.get_value()[0], w1.get_value()[0])\n",
    "print 'El vector w2 es [%.2f, %.2f]' % (w2.get_value()[0], w2.get_value()[0])\n",
    "print 'El vector w3 es [%.2f, %.2f]' % (w3.get_value()[0], w3.get_value()[0])\n",
    "print 'El vector w4 es [%.2f, %.2f]' % (w4.get_value()[0], w4.get_value()[0])\n",
    "print 'El valor del bias 1 es %.2f' % b1.get_value()\n",
    "print 'El valor del bias 2 es %.2f' % b2.get_value()\n",
    "# Función de esfuerzo en función del número de iteraciones\n",
    "plt.plot(cost)"
   ]
  },
  {
   "cell_type": "code",
   "execution_count": null,
   "metadata": {
    "collapsed": true
   },
   "outputs": [],
   "source": []
  }
 ],
 "metadata": {
  "kernelspec": {
   "display_name": "Python 2",
   "language": "python",
   "name": "python2"
  },
  "language_info": {
   "codemirror_mode": {
    "name": "ipython",
    "version": 2
   },
   "file_extension": ".py",
   "mimetype": "text/x-python",
   "name": "python",
   "nbconvert_exporter": "python",
   "pygments_lexer": "ipython2",
   "version": "2.7.13"
  }
 },
 "nbformat": 4,
 "nbformat_minor": 2
}
